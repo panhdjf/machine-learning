{
  "nbformat": 4,
  "nbformat_minor": 0,
  "metadata": {
    "colab": {
      "provenance": [],
      "toc_visible": true,
      "authorship_tag": "ABX9TyNTVrD5TuLpoSYdHYN7dC9b",
      "include_colab_link": true
    },
    "kernelspec": {
      "name": "python3",
      "display_name": "Python 3"
    },
    "language_info": {
      "name": "python"
    },
    "accelerator": "GPU",
    "gpuClass": "standard"
  },
  "cells": [
    {
      "cell_type": "markdown",
      "metadata": {
        "id": "view-in-github",
        "colab_type": "text"
      },
      "source": [
        "<a href=\"https://colab.research.google.com/github/panhdjf/machine-learning/blob/main/tracking_deepsort_yolov5.ipynb\" target=\"_parent\"><img src=\"https://colab.research.google.com/assets/colab-badge.svg\" alt=\"Open In Colab\"/></a>"
      ]
    },
    {
      "cell_type": "code",
      "execution_count": null,
      "metadata": {
        "id": "jDwSpoSnJbLJ"
      },
      "outputs": [],
      "source": [
        "from google.colab import drive\n",
        "drive.mount('/content/drive')"
      ]
    },
    {
      "cell_type": "code",
      "source": [
        "!git clone https://github.com/ultralytics/yolov5.git"
      ],
      "metadata": {
        "id": "6N3c9SOWbVrU"
      },
      "execution_count": null,
      "outputs": []
    },
    {
      "cell_type": "code",
      "source": [
        "%cd ./yolov5\n",
        "!pip install -r requirements.txt"
      ],
      "metadata": {
        "id": "obaKpBdubiXz"
      },
      "execution_count": null,
      "outputs": []
    },
    {
      "cell_type": "code",
      "source": [
        "!git clone https://github.com/nwojke/deep_sort.git"
      ],
      "metadata": {
        "id": "4zGfGB2ybqBW"
      },
      "execution_count": null,
      "outputs": []
    },
    {
      "cell_type": "code",
      "source": [
        "# !pip install urllib"
      ],
      "metadata": {
        "id": "VOjvD_imdcz8"
      },
      "execution_count": null,
      "outputs": []
    },
    {
      "cell_type": "code",
      "source": [
        "# import urllib.request\n",
        "# data_dir = \"content/drive/MyDrive/Blind_Spot/football-video\"\n",
        "# url = \"https://example.com/video.mp4\"\n",
        "# urllib.request.urlretrieve(url, data_dir)"
      ],
      "metadata": {
        "id": "mUZl6HXjdEBZ"
      },
      "execution_count": null,
      "outputs": []
    },
    {
      "cell_type": "code",
      "source": [
        "!git clone https://github.com/tensorflow/tensorflow.git\n",
        "!git checkout r1.15"
      ],
      "metadata": {
        "id": "qcaLFk-qvdkS"
      },
      "execution_count": null,
      "outputs": []
    },
    {
      "cell_type": "code",
      "source": [
        "!python detect_tracking.py --weights yolov5m.pt  --img 640  --source content/drive/MyDrive/Blind_Spot/football-video.mp4 --classes 0 32 --line-thickness 1"
      ],
      "metadata": {
        "colab": {
          "base_uri": "https://localhost:8080/"
        },
        "id": "u2oWwWTLbrvu",
        "outputId": "1b55315d-ae26-441d-fdcb-3df2eb923a49"
      },
      "execution_count": 30,
      "outputs": [
        {
          "output_type": "stream",
          "name": "stdout",
          "text": [
            "2023-04-10 10:49:43.540020: I tensorflow/core/platform/cpu_feature_guard.cc:182] This TensorFlow binary is optimized to use available CPU instructions in performance-critical operations.\n",
            "To enable the following instructions: AVX2 FMA, in other operations, rebuild TensorFlow with the appropriate compiler flags.\n",
            "2023-04-10 10:49:44.491137: W tensorflow/compiler/tf2tensorrt/utils/py_utils.cc:38] TF-TRT Warning: Could not find TensorRT\n",
            "\u001b[34m\u001b[1mdetect_tracking: \u001b[0mweights=['yolov5m.pt'], source=content/drive/MyDrive/Blind_Spot/football-video.mp4, data=data/coco128.yaml, imgsz=[640, 640], conf_thres=0.25, iou_thres=0.45, max_det=1000, device=, view_img=False, save_txt=False, save_conf=False, save_crop=False, nosave=False, classes=[0, 32], agnostic_nms=False, augment=False, visualize=False, update=False, project=runs/detect, name=exp, exist_ok=False, line_thickness=1, hide_labels=False, hide_conf=False, half=False, dnn=False\n",
            "2023-04-10 10:49:49.667813: I tensorflow/compiler/xla/stream_executor/cuda/cuda_gpu_executor.cc:996] successful NUMA node read from SysFS had negative value (-1), but there must be at least one NUMA node, so returning NUMA node zero. See more at https://github.com/torvalds/linux/blob/v6.0/Documentation/ABI/testing/sysfs-bus-pci#L344-L355\n",
            "2023-04-10 10:49:49.675877: I tensorflow/compiler/xla/stream_executor/cuda/cuda_gpu_executor.cc:996] successful NUMA node read from SysFS had negative value (-1), but there must be at least one NUMA node, so returning NUMA node zero. See more at https://github.com/torvalds/linux/blob/v6.0/Documentation/ABI/testing/sysfs-bus-pci#L344-L355\n",
            "2023-04-10 10:49:49.676127: I tensorflow/compiler/xla/stream_executor/cuda/cuda_gpu_executor.cc:996] successful NUMA node read from SysFS had negative value (-1), but there must be at least one NUMA node, so returning NUMA node zero. See more at https://github.com/torvalds/linux/blob/v6.0/Documentation/ABI/testing/sysfs-bus-pci#L344-L355\n",
            "2023-04-10 10:49:49.677026: I tensorflow/compiler/xla/stream_executor/cuda/cuda_gpu_executor.cc:996] successful NUMA node read from SysFS had negative value (-1), but there must be at least one NUMA node, so returning NUMA node zero. See more at https://github.com/torvalds/linux/blob/v6.0/Documentation/ABI/testing/sysfs-bus-pci#L344-L355\n",
            "2023-04-10 10:49:49.677270: I tensorflow/compiler/xla/stream_executor/cuda/cuda_gpu_executor.cc:996] successful NUMA node read from SysFS had negative value (-1), but there must be at least one NUMA node, so returning NUMA node zero. See more at https://github.com/torvalds/linux/blob/v6.0/Documentation/ABI/testing/sysfs-bus-pci#L344-L355\n",
            "2023-04-10 10:49:49.677480: I tensorflow/compiler/xla/stream_executor/cuda/cuda_gpu_executor.cc:996] successful NUMA node read from SysFS had negative value (-1), but there must be at least one NUMA node, so returning NUMA node zero. See more at https://github.com/torvalds/linux/blob/v6.0/Documentation/ABI/testing/sysfs-bus-pci#L344-L355\n",
            "2023-04-10 10:49:52.783014: I tensorflow/compiler/xla/stream_executor/cuda/cuda_gpu_executor.cc:996] successful NUMA node read from SysFS had negative value (-1), but there must be at least one NUMA node, so returning NUMA node zero. See more at https://github.com/torvalds/linux/blob/v6.0/Documentation/ABI/testing/sysfs-bus-pci#L344-L355\n",
            "2023-04-10 10:49:52.783252: I tensorflow/compiler/xla/stream_executor/cuda/cuda_gpu_executor.cc:996] successful NUMA node read from SysFS had negative value (-1), but there must be at least one NUMA node, so returning NUMA node zero. See more at https://github.com/torvalds/linux/blob/v6.0/Documentation/ABI/testing/sysfs-bus-pci#L344-L355\n",
            "2023-04-10 10:49:52.783427: I tensorflow/compiler/xla/stream_executor/cuda/cuda_gpu_executor.cc:996] successful NUMA node read from SysFS had negative value (-1), but there must be at least one NUMA node, so returning NUMA node zero. See more at https://github.com/torvalds/linux/blob/v6.0/Documentation/ABI/testing/sysfs-bus-pci#L344-L355\n",
            "2023-04-10 10:49:52.783571: W tensorflow/core/common_runtime/gpu/gpu_bfc_allocator.cc:47] Overriding orig_value setting because the TF_FORCE_GPU_ALLOW_GROWTH environment variable is set. Original config value was 0.\n",
            "2023-04-10 10:49:52.783616: I tensorflow/core/common_runtime/gpu/gpu_device.cc:1635] Created device /job:localhost/replica:0/task:0/device:GPU:0 with 13184 MB memory:  -> device: 0, name: Tesla T4, pci bus id: 0000:00:04.0, compute capability: 7.5\n",
            "Traceback (most recent call last):\n",
            "  File \"/content/yolov5/detect_tracking.py\", line 296, in <module>\n",
            "    main(opt)\n",
            "  File \"/content/yolov5/detect_tracking.py\", line 292, in main\n",
            "    run(**vars(opt))\n",
            "  File \"/usr/local/lib/python3.9/dist-packages/torch/utils/_contextlib.py\", line 115, in decorate_context\n",
            "    return func(*args, **kwargs)\n",
            "  File \"/content/yolov5/detect_tracking.py\", line 93, in run\n",
            "    encoder = gdet.create_box_encoder(model_filename, batch_size=1)\n",
            "  File \"/content/yolov5/deep_sort/tools/generate_detections.py\", line 100, in create_box_encoder\n",
            "    image_encoder = ImageEncoder(model_filename, input_name, output_name)\n",
            "  File \"/content/yolov5/deep_sort/tools/generate_detections.py\", line 78, in __init__\n",
            "    graph_def.ParseFromString(file_handle.read())\n",
            "  File \"/usr/local/lib/python3.9/dist-packages/tensorflow/python/lib/io/file_io.py\", line 116, in read\n",
            "    self._preread_check()\n",
            "  File \"/usr/local/lib/python3.9/dist-packages/tensorflow/python/lib/io/file_io.py\", line 77, in _preread_check\n",
            "    self._read_buf = _pywrap_file_io.BufferedInputStream(\n",
            "tensorflow.python.framework.errors_impl.NotFoundError: ./model_data/mars-small128.pb; No such file or directory\n"
          ]
        }
      ]
    },
    {
      "cell_type": "code",
      "source": [],
      "metadata": {
        "id": "_VafofI706c4"
      },
      "execution_count": null,
      "outputs": []
    },
    {
      "cell_type": "code",
      "source": [],
      "metadata": {
        "id": "VT5oBJ6d06fk"
      },
      "execution_count": null,
      "outputs": []
    },
    {
      "cell_type": "code",
      "source": [],
      "metadata": {
        "id": "zHfkih3J06lp"
      },
      "execution_count": null,
      "outputs": []
    },
    {
      "cell_type": "code",
      "source": [],
      "metadata": {
        "id": "Kbb0_EYL06og"
      },
      "execution_count": null,
      "outputs": []
    },
    {
      "cell_type": "code",
      "source": [],
      "metadata": {
        "id": "4qEEPgUn06rR"
      },
      "execution_count": null,
      "outputs": []
    },
    {
      "cell_type": "code",
      "source": [
        "# YOLOv5 ? by Ultralytics, GPL-3.0 license.\n",
        "\"\"\"\n",
        "Run inference on images, videos, directories, streams, etc.\n",
        " \n",
        "Usage - sources:\n",
        "    $ python path/to/detect.py --weights yolov5s.pt --source 0             \n",
        " # webcam\n",
        "                                                            \n",
        " img.jpg      # image\n",
        "                                                            \n",
        " vid.mp4       # video\n",
        "                                                             \n",
        "path/         # directory\n",
        "                                                             \n",
        "path/*.jpg    # glob\n",
        "                                                             \n",
        "'https://youtu.be/Zgi9g1ksQHc'  # YouTube\n",
        "                                                             \n",
        "'rtsp://example.com/media.mp4'  # RTSP, RTMP, HTTP stream\n",
        "\"\"\"\n",
        " \n",
        "import argparse\n",
        "import os\n",
        "import sys\n",
        "from pathlib import Path\n",
        " \n",
        "import torch\n",
        "import torch.backends.cudnn as cudnn\n",
        " \n",
        "FILE = Path(__file__).resolve()\n",
        "ROOT = FILE.parents[0]  # YOLOv5 root directory.\n",
        "if str(ROOT) not in sys.path:\n",
        "    sys.path.append(str(ROOT))  # Add ROOT to PATH.\n",
        "ROOT = Path(os.path.relpath(ROOT, Path.cwd()))  # Relative.\n",
        " \n",
        "# DeepSORT -> Importing DeepSORT.\n",
        "from deep_sort.application_util import preprocessing\n",
        "from deep_sort.deep_sort import nn_matching\n",
        "from deep_sort.deep_sort.detection import Detection\n",
        "from deep_sort.deep_sort.tracker import Tracker\n",
        "from deep_sort.tools import generate_detections as gdet\n",
        " \n",
        " \n",
        "from models.common import DetectMultiBackend\n",
        "from utils.dataloaders import IMG_FORMATS, VID_FORMATS, LoadImages, LoadStreams\n",
        "from utils.general import (LOGGER, check_file, check_img_size, scale_segments, check_imshow, check_requirements, colorstr, cv2,\n",
        "                          increment_path, non_max_suppression, print_args, strip_optimizer, xyxy2xywh)\n",
        "from utils.plots import Annotator, colors, save_one_box\n",
        "from utils.torch_utils import select_device, time_sync\n",
        " \n",
        " \n",
        "@torch.no_grad()\n",
        "def run(\n",
        "        weights=ROOT / 'yolov5s.pt',  # model.pt path(s)\n",
        "        source=ROOT / 'data/images',  # file/dir/URL/glob, 0 for webcam\n",
        "        data=ROOT / 'data/coco128.yaml',  # dataset.yaml path.\n",
        "        imgsz=(640, 640),  # Inference size (height, width).\n",
        "        conf_thres=0.25,  # Confidence threshold.\n",
        "        iou_thres=0.45,  # NMS IOU threshold.\n",
        "        max_det=1000,  # Maximum detections per image.\n",
        "        device='',  # Cuda device, i.e. 0 or 0,1,2,3 or cpu.\n",
        "        view_img=False,  # Show results.\n",
        "        save_txt=False,  # Save results to *.txt.\n",
        "        save_conf=False,  # Save confidences in --save-txt labels.\n",
        "        save_crop=False,  # Save cropped prediction boxes.\n",
        "        nosave=False,  # Do not save images/videos.\n",
        "        classes=None,  # Filter by class: --class 0, or --class 0 2 3.\n",
        "        agnostic_nms=False,  # Class-agnostic NMS.\n",
        "        augment=False,  # Augmented inference.\n",
        "        visualize=False,  # Visualize features.\n",
        "        update=False,  # Update all models.\n",
        "        project=ROOT / 'runs/detect',  # Save results to project/name.\n",
        "        name='exp',  # Save results to project/name.\n",
        "        exist_ok=False,  # Existing project/name ok, do not increment.\n",
        "        line_thickness=3,  # Bounding box thickness (pixels).\n",
        "        hide_labels=False,  # Hide labels.\n",
        "        hide_conf=False,  # Hide confidences.\n",
        "        half=False,  # Use FP16 half-precision inference.\n",
        "        dnn=False,  # Use OpenCV DNN for ONNX inference.\n",
        "):\n",
        "    source = str(source)\n",
        "    save_img = not nosave and not source.endswith('.txt')  # Save inference images.\n",
        "    is_file = Path(source).suffix[1:] in (IMG_FORMATS + VID_FORMATS)\n",
        "    is_url = source.lower().startswith(('rtsp://', 'rtmp://', 'http://', 'https://'))\n",
        "    webcam = source.isnumeric() or source.endswith('.txt') or (is_url and not is_file)\n",
        "    if is_url and is_file:\n",
        "        source = check_file(source)  # Download.\n",
        " \n",
        "    # DeepSORT -> Initializing tracker.\n",
        "    max_cosine_distance = 0.4\n",
        "    nn_budget = None\n",
        "    model_filename = './model_data/mars-small128.pb'\n",
        "    encoder = gdet.create_box_encoder(model_filename, batch_size=1)\n",
        "    metric = nn_matching.NearestNeighborDistanceMetric(\"cosine\", max_cosine_distance, nn_budget)\n",
        "    tracker = Tracker(metric)\n",
        "    \n",
        "    # Directories.\n",
        "    if not os.path.isdir('./runs/'):\n",
        "      os.mkdir('./runs/')\n",
        "    save_dir = os.path.join(os.getcwd(), \"runs\")\n",
        "    print(save_dir)\n",
        "    '''save_dir = increment_path(Path(project) / name, exist_ok=exist_ok)  # increment run\n",
        "    (save_dir / 'labels' if save_txt else save_dir).mkdir(parents=True, exist_ok=True)  # make dir'''\n",
        " \n",
        "    # Load model.\n",
        "    device = select_device(device)\n",
        "    model = DetectMultiBackend(weights, device=device, dnn=dnn, data=data, fp16=half)\n",
        "    stride, names, pt = model.stride, model.names, model.pt\n",
        "    imgsz = check_img_size(imgsz, s=stride)  # Check image size.\n",
        " \n",
        "    # Dataloader.\n",
        "    if webcam:\n",
        "        view_img = check_imshow()\n",
        "        cudnn.benchmark = True  # Set True to speed up constant image size inference.\n",
        "        dataset = LoadStreams(source, img_size=imgsz, stride=stride, auto=pt)\n",
        "        bs = len(dataset)  # batch_size.\n",
        "    else:\n",
        "        dataset = LoadImages(source, img_size=imgsz, stride=stride, auto=pt)\n",
        "        bs = 1  # batch_size.\n",
        "    vid_path, vid_writer = [None] * bs, [None] * bs\n",
        " \n",
        "    # Run inference.\n",
        "    model.warmup(imgsz=(1 if pt else bs, 3, *imgsz))  # Warmup.\n",
        "    dt, seen = [0.0, 0.0, 0.0], 0\n",
        "    frame_idx=0\n",
        "    for path, im, im0s, vid_cap, s in dataset:\n",
        "        t1 =  time_sync()\n",
        "        im = torch.from_numpy(im).to(device)\n",
        "        im = im.half() if model.fp16 else im.float()  # uint8 to fp16/32.        im /= 255  # 0 - 255 to 0.0 - 1.0\n",
        "        if len(im.shape) == 3:\n",
        "            im = im[None]  # Expand for batch dim.\n",
        "        t2 = time_sync()\n",
        "        dt[0] += t2 - t1\n",
        " \n",
        "        # Inference.\n",
        "        visualize = increment_path(save_dir / Path(path).stem, mkdir=True) if visualize else False\n",
        "        pred = model(im, augment=augment, visualize=visualize)\n",
        "        t3 = time_sync()\n",
        "        dt[1] += t3 - t2\n",
        " \n",
        "        # NMS.\n",
        "        pred = non_max_suppression(pred, conf_thres, iou_thres, classes, agnostic_nms, max_det=max_det)\n",
        "        dt[2] += time_sync() - t3\n",
        " \n",
        "        # Second-stage classifier (optional).\n",
        "        # pred = utils.general.apply_classifier(pred, classifier_model, im, im0s)\n",
        " \n",
        "        frame_idx=frame_idx+1\n",
        "        # Process predictions.\n",
        "        for i, det in enumerate(pred):  # Per image.\n",
        "            seen += 1\n",
        "            if webcam:  # batch_size >= 1\n",
        "                p, im0, frame = path[i], im0s[i].copy(), dataset.count\n",
        "                s += f'{i}: '\n",
        "            else:\n",
        "                p, im0, frame = path, im0s.copy(), getattr(dataset, 'frame', 0)\n",
        " \n",
        "            p = Path(p)  # To Path.\n",
        "            print(\"stem\", p.stem)\n",
        "            print(\"dir\", save_dir)\n",
        "            save_path = os.path.join(save_dir, p.name)  # im.jpg\n",
        "            txt_path = os.path.join(save_dir , p.stem) # im.txt\n",
        "            s += '%gx%g ' % im.shape[2:]  # Print string.\n",
        "            gn = torch.tensor(im0.shape)[[1, 0, 1, 0]]  # Normalization gain whwh.\n",
        "            imc = im0.copy() if save_crop else im0  # For save_crop.\n",
        "            annotator = Annotator(im0, line_width=line_thickness, example=str(names))\n",
        " \n",
        "            if len(det):\n",
        "                # Rescale boxes from img_size to im0 size.\n",
        "                det[:, :4] = scale_segments(im.shape[2:], det[:, :4], im0.shape).round()\n",
        " \n",
        "                # Print results.\n",
        "                for c in det[:, -1].unique():\n",
        "                    n = (det[:, -1] == c).sum()  # Detections per class.\n",
        "                    s += f\"{n} {names[int(c)]}{'s' * (n > 1)}, \"  # Add to string.\n",
        " \n",
        "                # DeepSORT -> Extracting Bounding boxes and its confidence scores.\n",
        "                bboxes = []\n",
        "                scores = []\n",
        "                for *boxes, conf, cls in det:\n",
        "                  bbox_left = min([boxes[0].item(), boxes[2].item()])\n",
        "                  bbox_top = min([boxes[1].item(), boxes[3].item()])\n",
        "                  bbox_w = abs(boxes[0].item() - boxes[2].item())\n",
        "                  bbox_h = abs(boxes[1].item() - boxes[3].item())\n",
        "                  box = [bbox_left, bbox_top, bbox_w, bbox_h]\n",
        "                  bboxes.append(box)\n",
        "                  scores.append(conf.item())\n",
        "                \n",
        "                # DeepSORT -> Getting appearance features of the object.\n",
        "                features = encoder(im0, bboxes)\n",
        "                # DeepSORT -> Storing all the required info in a list.\n",
        "                detections = [Detection(bbox, score, feature) for bbox, score, feature in zip(bboxes, scores, features)]\n",
        " \n",
        "                # DeepSORT -> Predicting Tracks.\n",
        "                tracker.predict()\n",
        "                tracker.update(detections)\n",
        "                #track_time = time.time() - prev_time\n",
        " \n",
        "                # DeepSORT -> Plotting the tracks.\n",
        "                for track in tracker.tracks:\n",
        "                  if not track.is_confirmed() or track.time_since_update > 1:\n",
        "                      continue\n",
        " \n",
        "                  # DeepSORT -> Changing track bbox to top left, bottom right coordinates.\n",
        "                  bbox = list(track.to_tlbr())\n",
        " \n",
        "                  # DeepSORT -> Writing Track bounding box and ID on the frame using OpenCV.\n",
        "                  txt = 'id:' + str(track.track_id)\n",
        "                  (label_width,label_height), baseline = cv2.getTextSize(txt , cv2.FONT_HERSHEY_SIMPLEX,1,1)\n",
        "                  top_left = tuple(map(int,[int(bbox[0]),int(bbox[1])-(label_height+baseline)]))\n",
        "                  top_right = tuple(map(int,[int(bbox[0])+label_width,int(bbox[1])]))\n",
        "                  org = tuple(map(int,[int(bbox[0]),int(bbox[1])-baseline]))\n",
        " \n",
        "                  cv2.rectangle(im0, (int(bbox[0]), int(bbox[1])), (int(bbox[2]), int(bbox[3])), (255,0,0), 1)\n",
        "                  cv2.rectangle(im0, top_left, top_right, (255,0,0), -1)\n",
        "                  cv2.putText(im0, txt, org, cv2.FONT_HERSHEY_SIMPLEX, 1, (255,255,255), 1)\n",
        " \n",
        "                  # DeepSORT -> Saving Track predictions into a text file.\n",
        "                  save_format = '{frame},{id},{x1},{y1},{w},{h},{x},{y},{z}\\n'\n",
        "                  print(\"txt: \", txt_path, '.txt')\n",
        "                  with open(txt_path + '.txt', 'a') as f:\n",
        "                    line = save_format.format(frame=frame_idx, id=track.track_id, x1=int(bbox[0]), y1=int(bbox[1]), w=int(bbox[2]- bbox[0]), h=int(bbox[3]-bbox[1]), x = -1, y = -1, z = -1)\n",
        "                    f.write(line)\n",
        " \n",
        "            # Stream results.\n",
        "            im0 = annotator.result()\n",
        " \n",
        "            # Save results (image with detections and tracks).\n",
        "            if save_img:\n",
        "                if dataset.mode == 'image':\n",
        "                    cv2.imwrite(save_path, im0)\n",
        "                else:  # 'video' or 'stream'\n",
        "                    if vid_path[i] != save_path:  # New video.\n",
        "                        vid_path[i] = save_path\n",
        "                        if isinstance(vid_writer[i], cv2.VideoWriter):\n",
        "                            vid_writer[i].release()  # Release previous video writer.\n",
        "                        if vid_cap:  # video\n",
        "                            fps = vid_cap.get(cv2.CAP_PROP_FPS)\n",
        "                            w = int(vid_cap.get(cv2.CAP_PROP_FRAME_WIDTH))\n",
        "                            h = int(vid_cap.get(cv2.CAP_PROP_FRAME_HEIGHT))\n",
        "                        else:  # Stream.\n",
        "                            fps, w, h = 30, im0.shape[1], im0.shape[0]\n",
        "                        save_path = str(Path(save_path).with_suffix('.mp4'))  # Force *.mp4 suffix on results videos.\n",
        "                        vid_writer[i] = cv2.VideoWriter(save_path, cv2.VideoWriter_fourcc(*'mp4v'), fps, (w, h))\n",
        "                    vid_writer[i].write(im0)\n",
        " \n",
        "        # Print time (inference-only).\n",
        "        LOGGER.info(f'{s}Done. ({t3 - t2:.3f}s)')\n",
        " \n",
        "    # Print results.\n",
        "    t = tuple(x / seen * 1E3 for x in dt)  # Speeds per image.\n",
        "    LOGGER.info(f'Speed: %.1fms pre-process, %.1fms inference, %.1fms NMS per image at shape {(1, 3, *imgsz)}' % t)\n",
        "    if update:\n",
        "        strip_optimizer(weights)  # Update model (to fix SourceChangeWarning).\n",
        " \n",
        " \n",
        "def parse_opt():\n",
        "    parser = argparse.ArgumentParser()\n",
        "    parser.add_argument('--weights', nargs='+', type=str, default=ROOT / 'yolov5s.pt', help='model path(s)')\n",
        "    parser.add_argument('--source', type=str, default=ROOT / 'data/images', help='file/dir/URL/glob, 0 for webcam')\n",
        "    parser.add_argument('--data', type=str, default=ROOT / 'data/coco128.yaml', help='(optional) dataset.yaml path')\n",
        "    parser.add_argument('--imgsz', '--img', '--img-size', nargs='+', type=int, default=[640], help='inference size h,w')\n",
        "    parser.add_argument('--conf-thres', type=float, default=0.25, help='confidence threshold')\n",
        "    parser.add_argument('--iou-thres', type=float, default=0.45, help='NMS IoU threshold')\n",
        "    parser.add_argument('--max-det', type=int, default=1000, help='maximum detections per image')\n",
        "    parser.add_argument('--device', default='', help='cuda device, i.e. 0 or 0,1,2,3 or cpu')\n",
        "    parser.add_argument('--view-img', action='store_true', help='show results')\n",
        "    parser.add_argument('--save-txt', action='store_true', help='save results to *.txt')\n",
        "    parser.add_argument('--save-conf', action='store_true', help='save confidences in --save-txt labels')\n",
        "    parser.add_argument('--save-crop', action='store_true', help='save cropped prediction boxes')\n",
        "    parser.add_argument('--nosave', action='store_true', help='do not save images/videos')\n",
        "    parser.add_argument('--classes', nargs='+', type=int, help='filter by class: --classes 0, or --classes 0 2 3')\n",
        "    parser.add_argument('--agnostic-nms', action='store_true', help='class-agnostic NMS')\n",
        "    parser.add_argument('--augment', action='store_true', help='augmented inference')\n",
        "    parser.add_argument('--visualize', action='store_true', help='visualize features')\n",
        "    parser.add_argument('--update', action='store_true', help='update all models')\n",
        "    parser.add_argument('--project', default=ROOT / 'runs/detect', help='save results to project/name')\n",
        "    parser.add_argument('--name', default='exp', help='save results to project/name')\n",
        "    parser.add_argument('--exist-ok', action='store_true', help='existing project/name ok, do not increment')\n",
        "    parser.add_argument('--line-thickness', default=3, type=int, help='bounding box thickness (pixels)')\n",
        "    parser.add_argument('--hide-labels', default=False, action='store_true', help='hide labels')\n",
        "    parser.add_argument('--hide-conf', default=False, action='store_true', help='hide confidences')\n",
        "    parser.add_argument('--half', action='store_true', help='use FP16 half-precision inference')\n",
        "    parser.add_argument('--dnn', action='store_true', help='use OpenCV DNN for ONNX inference')\n",
        "    opt = parser.parse_args()\n",
        "    opt.imgsz *= 2 if len(opt.imgsz) == 1 else 1  # Expand.\n",
        "    print_args(vars(opt))\n",
        "    return opt\n",
        " \n",
        "def main(opt):\n",
        "    check_requirements(exclude=('tensorboard', 'thop'))\n",
        "    run(**vars(opt))\n",
        " \n",
        "if __name__ == \"__main__\":\n",
        "    opt = parse_opt()\n",
        "    main(opt)"
      ],
      "metadata": {
        "id": "vf6ObQ6H06tc"
      },
      "execution_count": null,
      "outputs": []
    },
    {
      "cell_type": "markdown",
      "source": [
        "# New Section"
      ],
      "metadata": {
        "id": "4ndx2p7j1XdX"
      }
    }
  ]
}